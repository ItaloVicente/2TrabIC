{
 "cells": [
  {
   "cell_type": "code",
   "execution_count": 2,
   "metadata": {},
   "outputs": [],
   "source": [
    "Graph_nodes = {\n",
    "    'S': [('A', 2), ('O', 2)],\n",
    "    'A': [('B', 2)], \n",
    "    'B': [('C', 2)], \n",
    "    'C': [('D', 3)], \n",
    "    'D': [('T', 3)], \n",
    "    'O': [('F', 5)], \n",
    "    'F': [('G', 2)], \n",
    "    'G': [('T', 2)] \n",
    "\n",
    "}\n",
    "h = {\n",
    "        'S': 9, \n",
    "        'A': 5, \n",
    "        'B': 4, \n",
    "        'C': 4, \n",
    "        'D': 3, \n",
    "        'T': 0, \n",
    "        'O': 7, \n",
    "        'F': 4, \n",
    "        'G': 2\n",
    "}"
   ]
  },
  {
   "cell_type": "code",
   "execution_count": 6,
   "metadata": {},
   "outputs": [],
   "source": [
    "def get_neightbors(v):\n",
    "    if v in Graph_nodes:\n",
    "        return Graph_nodes[v]\n",
    "    else: \n",
    "        return None\n",
    "\n",
    "def aStarAlgo (start_node, stop_node, Graph_nodes, h):\n",
    "    open_set = set (start_node)\n",
    "    closed_set = set()\n",
    "    g = {}\n",
    "    parents = {}\n",
    "    g[start_node] = 0\n",
    "    parents[start_node] = start_node\n",
    "\n",
    "    while len(open_set)>0:\n",
    "        n = None\n",
    "        for v in open_set:\n",
    "            if n == None or g[v] +h[v] < g[n]+h[n]:\n",
    "                n=v\n",
    "        if n == stop_node or Graph_nodes[n]== None:\n",
    "            pass\n",
    "        else:\n",
    "            for (m, weight) in get_neightbors(n):\n",
    "                if m not in open_set and m not in closed_set:\n",
    "                    open_set.add(m)\n",
    "                    parents[m] = n\n",
    "                    g[m] = g[n] + weight\n",
    "                else:\n",
    "                    if g[m]>g[n] + weight:\n",
    "                        g[m] = g[n] +weight\n",
    "                        parents[m] = n\n",
    "                        if m in closed_set:\n",
    "                            closed_set.remove(m)\n",
    "                            open_set.add(m)\n",
    "\n",
    "        if n == None:\n",
    "            print('Path does not exist!')\n",
    "            return None\n",
    "        if n == stop_node:\n",
    "            path = []\n",
    "\n",
    "            while parents[n] != n:\n",
    "                path.append(n)\n",
    "                n = parents[n]\n",
    "            \n",
    "            path.append(start_node)\n",
    "            path.reverse()\n",
    "\n",
    "            #print('Path found {}', format(path))\n",
    "            return path\n",
    "        open_set.remove(n)\n",
    "        closed_set.add(n)\n",
    "    print('Path does not exist!')\n",
    "    return None\n",
    "\n",
    "def greedySearch(start_node, stop_node, Graph_nodes, h):\n",
    "    open_set = [start_node] \n",
    "    closed_set = set()\n",
    "    parents = {}\n",
    "    parents[start_node] = start_node\n",
    "\n",
    "    while len(open_set) > 0:\n",
    "        n = None\n",
    "        for v in open_set:\n",
    "            if n is None or h[v] < h[n]:  \n",
    "                n = v\n",
    "        \n",
    "        if n == stop_node: \n",
    "            path = []\n",
    "            while parents[n] != n:\n",
    "                path.append(n)\n",
    "                n = parents[n]\n",
    "            path.append(start_node)\n",
    "            path.reverse()\n",
    "            #print('Path found: {}'.format(path))\n",
    "            return path\n",
    "\n",
    "        if Graph_nodes[n] is None:\n",
    "            pass  \n",
    "\n",
    "        for (m, _) in get_neightbors(n):\n",
    "            if m not in open_set and m not in closed_set:\n",
    "                open_set.append(m)\n",
    "                parents[m] = n\n",
    "\n",
    "        open_set.remove(n)\n",
    "        closed_set.add(n)\n",
    "\n",
    "    print('Path does not exist!')\n",
    "    return None"
   ]
  },
  {
   "cell_type": "code",
   "execution_count": 7,
   "metadata": {},
   "outputs": [
    {
     "data": {
      "text/plain": [
       "['S', 'O', 'F', 'G', 'T']"
      ]
     },
     "execution_count": 7,
     "metadata": {},
     "output_type": "execute_result"
    }
   ],
   "source": [
    "aStarAlgo('S', 'T', Graph_nodes, h)\n"
   ]
  },
  {
   "cell_type": "code",
   "execution_count": 8,
   "metadata": {},
   "outputs": [
    {
     "data": {
      "text/plain": [
       "['S', 'A', 'B', 'C', 'D', 'T']"
      ]
     },
     "execution_count": 8,
     "metadata": {},
     "output_type": "execute_result"
    }
   ],
   "source": [
    "greedySearch('S', 'T', Graph_nodes, h)"
   ]
  }
 ],
 "metadata": {
  "kernelspec": {
   "display_name": ".venv",
   "language": "python",
   "name": "python3"
  },
  "language_info": {
   "codemirror_mode": {
    "name": "ipython",
    "version": 3
   },
   "file_extension": ".py",
   "mimetype": "text/x-python",
   "name": "python",
   "nbconvert_exporter": "python",
   "pygments_lexer": "ipython3",
   "version": "3.10.12"
  }
 },
 "nbformat": 4,
 "nbformat_minor": 2
}
